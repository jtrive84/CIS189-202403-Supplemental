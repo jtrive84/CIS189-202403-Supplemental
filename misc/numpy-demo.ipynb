{
 "cells": [
  {
   "cell_type": "markdown",
   "metadata": {},
   "source": [
    "### Arrays\n",
    "\n",
    "The array module in Python is used when you need to create arrays that are more memory-efficient than lists. While lists in Python are flexible and can hold any type of object, they are less efficient in terms of memory and performance when dealing with large amounts of numerical data."
   ]
  },
  {
   "cell_type": "code",
   "execution_count": 18,
   "metadata": {},
   "outputs": [
    {
     "name": "stdout",
     "output_type": "stream",
     "text": [
      "type(ll): <class 'list'>\n",
      "type(aa): <class 'array.array'>\n"
     ]
    }
   ],
   "source": [
    "import array\n",
    "import sys\n",
    "\n",
    "ll = [ii for ii in range(10_000_000)]\n",
    "aa = array.array(\"i\", range(10_000_000))\n",
    "\n",
    "\n",
    "print(f\"type(ll): {type(ll)}\")\n",
    "print(f\"type(aa): {type(aa)}\")\n"
   ]
  },
  {
   "cell_type": "code",
   "execution_count": 19,
   "metadata": {},
   "outputs": [
    {
     "name": "stdout",
     "output_type": "stream",
     "text": [
      "Size of ll: 89,095,160 bytes\n",
      "Size of aa: 40,970,224 bytes\n"
     ]
    }
   ],
   "source": [
    "\n",
    "# Get size of each element of aa and ll.\n",
    "ll_size = sys.getsizeof(ll)\n",
    "aa_size = sys.getsizeof(aa)\n",
    "\n",
    "\n",
    "print(f\"Size of ll: {ll_size:,.0f} bytes\")\n",
    "print(f\"Size of aa: {aa_size:,.0f} bytes\")\n"
   ]
  },
  {
   "cell_type": "markdown",
   "metadata": {},
   "source": [
    "<br>\n",
    "\n",
    "**When to use array vs. list:**\n",
    "\n",
    "- **When You Need Memory Efficiency**: If you need to store a large number of numerical values and memory usage is a concern, arrays are a good choice.\n",
    "\n",
    "- **When You Need Consistent Type Elements**: If you want to ensure that all elements in your collection are of the same type, use arrays.\n",
    "\n",
    "- **When You Need Performance Optimization**: For operations that involve a lot of numerical computations, arrays can offer performance benefits.\n",
    "\n",
    "<br>\n",
    "\n",
    "In practice, the array module is almost never used. Instead, practitioners opt for [NumPy](https://numpy.org/doc/stable/index.html). NumPy is a powerful library for numerical computing in Python. It provides support for large, multi-dimensional arrays and matrices, along with a collection of mathematical functions to operate on arrays efficiently. Numpy is widely used in scientific computing, data analysis, and machine learning due to its performance and ease of use.\n",
    "\n",
    "Note that NumPy is not included as part of the standard library. It needs to be installed separately using pip:\n",
    "\n",
    "```sh\n",
    "$ pip install numpy\n",
    "```\n"
   ]
  },
  {
   "cell_type": "code",
   "execution_count": 20,
   "metadata": {},
   "outputs": [
    {
     "name": "stdout",
     "output_type": "stream",
     "text": [
      "type(arr): <class 'numpy.ndarray'>\n",
      "arr: [0 1 2 3 4 5 6 7 8 9]\n"
     ]
    }
   ],
   "source": [
    "\n",
    "# Example creating numpy array.\n",
    "import numpy as np\n",
    "\n",
    "# Create numpy array:\n",
    "arr = np.asarray(range(10))\n",
    "\n",
    "print(f\"type(arr): {type(arr)}\")\n",
    "print(f\"arr: {arr}\")"
   ]
  },
  {
   "cell_type": "markdown",
   "metadata": {},
   "source": [
    "NumPy makes use of vectorization, which is a technique that allows you to perform operations on entire arrays of data at once, rather than iterating through the data element by element using loops. Vectorization takes advantage of low-level optimizations and parallelism provided by modern CPU architectures, leading to significant performance improvements.\n",
    "\n",
    "For example, to add 10 to each element of the arr array, we run:"
   ]
  },
  {
   "cell_type": "code",
   "execution_count": 21,
   "metadata": {},
   "outputs": [
    {
     "data": {
      "text/plain": [
       "array([10, 11, 12, 13, 14, 15, 16, 17, 18, 19])"
      ]
     },
     "execution_count": 21,
     "metadata": {},
     "output_type": "execute_result"
    }
   ],
   "source": [
    "\n",
    "arr + 10\n"
   ]
  },
  {
   "cell_type": "markdown",
   "metadata": {},
   "source": [
    "Let's compare the required runtime to add 10 to each element of a 10,000,000 element Python list vs. a Numpy array:"
   ]
  },
  {
   "cell_type": "code",
   "execution_count": 15,
   "metadata": {},
   "outputs": [],
   "source": [
    "\n",
    "# 10M element list.\n",
    "ll = [i for i in range(10_000_000)]\n",
    "\n",
    "# 10M element Numpy array.\n",
    "aa = np.asarray(range(10_000_000))\n"
   ]
  },
  {
   "cell_type": "code",
   "execution_count": 10,
   "metadata": {},
   "outputs": [
    {
     "name": "stdout",
     "output_type": "stream",
     "text": [
      "546 ms ± 74.2 ms per loop (mean ± std. dev. of 7 runs, 5 loops each)\n"
     ]
    }
   ],
   "source": [
    "\n",
    "%timeit -n 5 [ii + 10 for ii in ll]\n"
   ]
  },
  {
   "cell_type": "code",
   "execution_count": 11,
   "metadata": {},
   "outputs": [
    {
     "name": "stdout",
     "output_type": "stream",
     "text": [
      "19.1 ms ± 990 µs per loop (mean ± std. dev. of 7 runs, 5 loops each)\n"
     ]
    }
   ],
   "source": [
    "\n",
    "%timeit -n 5 aa + 10\n"
   ]
  },
  {
   "cell_type": "code",
   "execution_count": 12,
   "metadata": {},
   "outputs": [
    {
     "data": {
      "text/plain": [
       "28.58638743455497"
      ]
     },
     "execution_count": 12,
     "metadata": {},
     "output_type": "execute_result"
    }
   ],
   "source": [
    "546 / 19.1"
   ]
  },
  {
   "cell_type": "markdown",
   "metadata": {},
   "source": [
    "Use NumPy arrays when you need efficient numerical computations, are working with large datasets, require advanced mathematical functions or need to perform operations on multidimensional data. NumPy arrays provide significant performance and memory efficiency advantages over Python lists, making them the preferred choice for scientific computing and data analysis tasks.\n",
    "\n",
    "- [Absolute Beginner's Guide to NumPy](https://numpy.org/doc/stable/user/absolute_beginners.html)\n",
    "- [100 NumPy Exercises](https://github.com/amberjrivera/numpy-100/blob/master/100%20Numpy%20exercises.ipynb)"
   ]
  },
  {
   "cell_type": "code",
   "execution_count": 22,
   "metadata": {},
   "outputs": [
    {
     "data": {
      "text/plain": [
       "'t:\\\\Repos\\\\DMACC-2\\\\CIS189-202403-Supplemental\\\\misc'"
      ]
     },
     "execution_count": 22,
     "metadata": {},
     "output_type": "execute_result"
    }
   ],
   "source": [
    "pwd"
   ]
  },
  {
   "cell_type": "code",
   "execution_count": 23,
   "metadata": {},
   "outputs": [
    {
     "name": "stdout",
     "output_type": "stream",
     "text": [
      " Volume in drive T is Data\n",
      " Volume Serial Number is 324D-69E7\n",
      "\n",
      " Directory of t:\\Repos\\DMACC-2\\CIS189-202403-Supplemental\\misc\n",
      "\n",
      "07/02/2024  12:44 PM    <DIR>          .\n",
      "06/24/2024  08:09 PM    <DIR>          ..\n",
      "06/25/2024  06:10 PM    <DIR>          __pycache__\n",
      "07/01/2024  02:21 PM            59,302 assignment-exhibit-maker.ipynb\n",
      "07/01/2024  12:07 PM    <DIR>          assignments\n",
      "06/17/2024  11:34 AM             8,265 exhibit_maker.py\n",
      "06/01/2024  07:48 PM            23,973 functions.png\n",
      "06/25/2024  05:57 PM             1,216 functions.py\n",
      "06/12/2024  10:05 AM    <DIR>          IDOT\n",
      "06/25/2024  05:57 PM               513 main.py\n",
      "07/02/2024  06:19 PM             7,074 numpy-demo.ipynb\n",
      "06/25/2024  05:55 PM             1,666 python-scripts.md\n",
      "06/22/2024  09:03 AM    <DIR>          scripts\n",
      "               7 File(s)        102,009 bytes\n",
      "               6 Dir(s)  577,907,752,960 bytes free\n"
     ]
    }
   ],
   "source": [
    "ls"
   ]
  }
 ],
 "metadata": {
  "kernelspec": {
   "display_name": "Python 3",
   "language": "python",
   "name": "python3"
  },
  "language_info": {
   "codemirror_mode": {
    "name": "ipython",
    "version": 3
   },
   "file_extension": ".py",
   "mimetype": "text/x-python",
   "name": "python",
   "nbconvert_exporter": "python",
   "pygments_lexer": "ipython3",
   "version": "3.12.0"
  }
 },
 "nbformat": 4,
 "nbformat_minor": 2
}
