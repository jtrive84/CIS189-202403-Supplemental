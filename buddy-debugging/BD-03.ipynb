{
 "cells": [
  {
   "cell_type": "markdown",
   "metadata": {},
   "source": [
    "### Buddy Debugging - Week 4\n",
    "---"
   ]
  },
  {
   "cell_type": "markdown",
   "metadata": {},
   "source": [
    "#### 1."
   ]
  },
  {
   "cell_type": "code",
   "execution_count": null,
   "metadata": {},
   "outputs": [],
   "source": [
    "\n",
    "minutes_to_seconds(minutes):\n",
    "    \"\"\"\n",
    "    Compute the number of seconds in minutes.\n",
    "    \"\"\"\n",
    "secs = minutes * 60\n",
    "    return(secs)\n"
   ]
  },
  {
   "cell_type": "code",
   "execution_count": null,
   "metadata": {},
   "outputs": [],
   "source": [
    "\n",
    "\n",
    "# 1. Missing def keyword. \n",
    "# 2. Body of function not properly indented.\n",
    "\n",
    "# Corrected:\n",
    "def minutes_to_seconds(minutes):\n",
    "    \"\"\"\n",
    "    Compute the number of seconds in minutes.\n",
    "    \"\"\"\n",
    "    secs = minutes * 60\n",
    "    return(secs)\n"
   ]
  },
  {
   "cell_type": "markdown",
   "metadata": {},
   "source": [
    "#### 2."
   ]
  },
  {
   "cell_type": "code",
   "execution_count": null,
   "metadata": {},
   "outputs": [],
   "source": [
    "\n",
    "\n",
    "def sphere_volume(radius)\n",
    "\"\"\"\n",
    "Compute volume of sphere, (4. 3) * pi * radius**3\n",
    "\"\"\"\n",
    "volume = (4 / 3) * pi * radius**3\n",
    "return volume\n"
   ]
  },
  {
   "cell_type": "code",
   "execution_count": null,
   "metadata": {},
   "outputs": [],
   "source": [
    "\n",
    "\n",
    "# 1. Function declarations must end with a :\n",
    "# 2. Docstring and function body must be indented 4 spaces. \n",
    "# 3. Use of pi without first importing math. \n",
    "\n",
    "# Corrected:\n",
    "from math import pi\n",
    "\n",
    "\n",
    "def sphere_volume(radius):\n",
    "    \"\"\"\n",
    "    Compute volume of sphere, (4. 3) * pi * radius**3\n",
    "    \"\"\"\n",
    "    volume = (4 / 3) * pi * radius ** 3\n",
    "    return(volume)"
   ]
  },
  {
   "cell_type": "markdown",
   "metadata": {},
   "source": [
    "#### 3."
   ]
  },
  {
   "cell_type": "code",
   "execution_count": null,
   "metadata": {},
   "outputs": [],
   "source": [
    "\n",
    "\n",
    "# Prompt user for bank balance. If greater than or equal to 0, print \"OK\". \n",
    "# If less than 0, print \"overdrawn\".\n",
    "\n",
    "try:\n",
    "    balance = input(\"Enter account balance: \")\n",
    "\n",
    "    if balance >= 0\n",
    "        print(\"OK\")\n",
    "    \n",
    "    else:\n",
    "        print(\"overdrawn\")\n",
    "\n",
    "\n",
    "\n"
   ]
  },
  {
   "cell_type": "code",
   "execution_count": null,
   "metadata": {},
   "outputs": [],
   "source": [
    "\n",
    "# 1. balance is not converted to a float. Cannot compare numerics against\n",
    "#    non-numeric types.\n",
    "# 2. Need colon after if.\n",
    "# 3. try cannot exist without except (or finally).\n",
    "\n",
    "# Corrected:\n",
    "try:\n",
    "    balance = input(\"Enter account balance: \")\n",
    "\n",
    "    if balance >= 0:\n",
    "        print(\"OK\")\n",
    "    \n",
    "    else:\n",
    "        print(\"overdrawn\")\n",
    "\n",
    "except TypeError:\n",
    "    print(\"Entered balance must be numeric type.\")\n",
    "\n",
    "\n"
   ]
  },
  {
   "cell_type": "markdown",
   "metadata": {},
   "source": [
    "#### 4."
   ]
  },
  {
   "cell_type": "code",
   "execution_count": null,
   "metadata": {},
   "outputs": [],
   "source": [
    "\n",
    "\n",
    "# Function to return the number of a's in s. s should be assumed to be all\n",
    "# lowercase.\n",
    "\n",
    "def get_a_count(s):\n",
    "    \"\"\"\n",
    "    Count the number of a characters in s. \n",
    "    \"\"\"\n",
    "    n = s.count(\"a\")\n",
    "    print(n)\n",
    "\n",
    "\n",
    "# Test function.\n",
    "s = \"aaAAAannnnngggggaaaanAAssnsssaaaaanaaaaaaaa\"\n",
    "result = get_a_count(s)\n",
    "print(f\"Number of a characters: {result}\")\n"
   ]
  },
  {
   "cell_type": "code",
   "execution_count": null,
   "metadata": {},
   "outputs": [],
   "source": [
    "\n",
    "# 1. We should first call lower on s to ensure all characters are lower case.\n",
    "# 2. The function as written is a void function it uses print instead of return.\n",
    "#    If we want to return a value that can be assigned to another variable, \n",
    "#    we need to use return.\n",
    "\n",
    "# Corrected:\n",
    "def get_a_count(s):\n",
    "    \"\"\"\n",
    "    Count the number of a characters in s.\n",
    "    \"\"\"\n",
    "    n = s.lower().count(\"a\")\n",
    "    return(n)\n",
    "\n"
   ]
  },
  {
   "cell_type": "markdown",
   "metadata": {},
   "source": [
    "#### 5."
   ]
  },
  {
   "cell_type": "code",
   "execution_count": null,
   "metadata": {},
   "outputs": [],
   "source": [
    "\n",
    "\n",
    "\n",
    "def string_joiner(a, b, c):\n",
    "    \"\"\"\n",
    "    Concatenate arguments and return as dash delimited string.\n",
    "    \"\"\"\n",
    "    # Combine characters in list.\n",
    "    chars = [a, b, c, d]\n",
    "    s = \"-\".join(chars)\n",
    "\n",
    "\n",
    "# Test function.\n",
    "result = string_joiner(\"home\", \"sweet\", \"home\")\n",
    "\n",
    "print(f\"result: {result}.\")\n",
    "\n"
   ]
  },
  {
   "cell_type": "code",
   "execution_count": 4,
   "metadata": {},
   "outputs": [],
   "source": [
    "\n",
    "\n",
    "# 1. Argument d is not specified as function argument and not defined in global scope. \n",
    "# 2. Function doesn't have a return, so value of result evaluates to None.\n",
    "\n",
    "# Corrected:\n",
    "def string_joiner(a, b, c):\n",
    "    \"\"\"\n",
    "    Concatenate arguments and return as dash delimited string.\n",
    "    \"\"\"\n",
    "    # Combine characters in list.\n",
    "    chars = [a, b, c]\n",
    "    s = \"-\".join(chars)\n",
    "    return(s)\n",
    "\n"
   ]
  },
  {
   "cell_type": "markdown",
   "metadata": {},
   "source": [
    "#### 6."
   ]
  },
  {
   "cell_type": "code",
   "execution_count": null,
   "metadata": {},
   "outputs": [],
   "source": [
    "\n",
    "\n",
    "def average_no_min(vals)\n",
    "    \"\"\"\n",
    "    Compute average of vals after removing the minimum value. If\n",
    "    length of vals  is 0, return None. If length of vals is 1, \n",
    "    return first element of vals.\n",
    "    \"\"\"\n",
    "    if len(vals) == 0:\n",
    "        return None\n",
    "    \n",
    "    elif len vals == 1:\n",
    "        print(vals[0])\n",
    "\n",
    "    else:\n",
    "        min_indx = vals.index(min(vals))\n",
    "        vals.pop(min_indx)\n",
    "        avg = statistics.mean(vals)\n",
    "        return avg\n",
    "    \n"
   ]
  },
  {
   "cell_type": "code",
   "execution_count": null,
   "metadata": {},
   "outputs": [],
   "source": [
    "\n",
    "\n",
    "# 1. Declarations must end with :.\n",
    "# 2. len is a function, must enclose argument in parens. \n",
    "# 3. Shouldn't mix return/print. Replace print(vals[0]) with return vals[0]. \n",
    "# 4. Called statistics.mean without importing statistics.\n",
    "\n",
    "\n",
    "# Corrected:\n",
    "\n",
    "def average_no_min(vals):\n",
    "    \"\"\"\n",
    "    Compute average of vals after removing the minimum value. If\n",
    "    length of vals  is 0, return None. If length of vals is 1, \n",
    "    return first element of vals.\n",
    "    \"\"\"\n",
    "    if len(vals) == 0:\n",
    "        return None\n",
    "    \n",
    "    elif len(vals) == 1:\n",
    "        return vals[0]\n",
    "\n",
    "    else:\n",
    "        min_indx = vals.index(min(vals))\n",
    "        vals.pop(min_indx)\n",
    "        return vals\n"
   ]
  },
  {
   "cell_type": "markdown",
   "metadata": {},
   "source": [
    "#### 7."
   ]
  },
  {
   "cell_type": "code",
   "execution_count": null,
   "metadata": {},
   "outputs": [],
   "source": [
    "\n",
    "\n",
    "def root_at_indx(vals, indx):\n",
    "    \"\"\"\n",
    "    Compute the square root of the number at indx in list vals. If exception is \n",
    "    thrown, return -1. \n",
    "    \"\"\"\n",
    "    try\n",
    "        test_val = vals[indx]\n",
    "        result = sqrt(test_val)\n",
    "except IndexError:\n",
    "    result = None\n",
    "\n",
    "    return result\n"
   ]
  },
  {
   "cell_type": "code",
   "execution_count": null,
   "metadata": {},
   "outputs": [],
   "source": [
    "\n",
    "# 1. try must be followed by :.\n",
    "# 2. Need to import sqrt from math library (from math import sqrt).\n",
    "# 3. try/except should be at the same level of indentation. \n",
    "# 4. Docstring said to return -1 if error was thrown, but is assigned to None. \n",
    "\n",
    "# Corrected:\n",
    "from math import sqrt\n",
    "\n",
    "\n",
    "def root_at_indx(vals, indx):\n",
    "    \"\"\"\n",
    "    Compute the square root of the number at indx in list vals. If exception is \n",
    "    thrown, return -1. \n",
    "    \"\"\"\n",
    "    try:\n",
    "        test_val = vals[indx]\n",
    "        result = sqrt(test_val)\n",
    "    except IndexError:\n",
    "        result = -1\n",
    "    return result\n",
    "\n",
    "\n",
    "# Test function.\n",
    "vals = [2, 4, 5, 7, 8, 24, 55]\n",
    "\n",
    "print(f\"Root of value at index 3: {root_at_indx(vals, 3)}\")\n",
    "print(f\"Root of value at index 23: {root_at_indx(vals, 23)}\")\n",
    "\n"
   ]
  },
  {
   "cell_type": "markdown",
   "metadata": {},
   "source": [
    "#### 8."
   ]
  },
  {
   "cell_type": "code",
   "execution_count": null,
   "metadata": {},
   "outputs": [],
   "source": [
    "\n",
    "\n",
    "def get_speed(d, t, units):\n",
    "    \"\"\"\n",
    "    Compute the average speed of an object that traveled distance d miles in t hours,\n",
    "    where speed = distance divided by time. If speed is greater than 100, \n",
    "    return 100. Otherwise return calculated speed. \n",
    "    \"\"\"\n",
    "    speed = distance \\ time\n",
    "\n",
    "    if sped > 100:\n",
    "        return 100\n",
    "    else:\n",
    "        return speed\n"
   ]
  },
  {
   "cell_type": "code",
   "execution_count": null,
   "metadata": {},
   "outputs": [],
   "source": [
    "\n",
    "# 1. units isn't used in function. Can remove this argument.\n",
    "# 2. Function arguments are d and t, but function body references distance and time.\n",
    "# 2. Division operator is `/`, not `\\`.\n",
    "# 3. Misspelled speed as sped in if clause. \n",
    "\n",
    "# Corrected:\n",
    "def get_speed(d, t):\n",
    "    \"\"\"\n",
    "    Compute the average speed of an object that traveled distance d miles in \n",
    "    t hours, where speed = distance divided by time. If speed is greater than \n",
    "    100, return 100. Otherwise return calculated speed. \n",
    "    \"\"\"\n",
    "    speed = d / t\n",
    "\n",
    "    if speed > 100:\n",
    "        return 100\n",
    "    else:\n",
    "        return speed\n",
    "    \n",
    "\n",
    "# Test function.\n",
    "s_u = get_speed(100, 3)\n",
    "\n",
    "print(f\"Speed under 100: {s_u}\")\n",
    "\n",
    "s_o = s_u = get_speed(1000, 3)\n",
    "\n",
    "print(f\"Speed over 100: {s_o}\")\n"
   ]
  },
  {
   "cell_type": "markdown",
   "metadata": {},
   "source": [
    "#### 9."
   ]
  },
  {
   "cell_type": "code",
   "execution_count": null,
   "metadata": {},
   "outputs": [],
   "source": [
    "\n",
    "\n",
    "def consolidator(a b c d e)\n",
    "    \"\"\"\n",
    "    Combine function arguments into a list and return values \n",
    "    sorted aplhabetically.\n",
    "    \"\"\"\n",
    "    combined = [a, b, c, d, e]\n",
    "    combined = sorted(combined)\n",
    "    return combined\n"
   ]
  },
  {
   "cell_type": "code",
   "execution_count": null,
   "metadata": {},
   "outputs": [],
   "source": [
    "\n",
    "\n",
    "# 1. Function arguments must be separated by commas. \n",
    "# 2. Function parens need to be followed by `:`.\n",
    "# 3. Can't use `==` for variable assignment, need to use `=`.\n",
    "# 4. Need to ensure all inputs are strings. \n",
    "\n",
    "# Corrected:\n",
    "\n",
    "def consolidator(a, b, c, d, e):\n",
    "    \"\"\"\n",
    "    Combine function arguments into a list and return values \n",
    "    sorted aphabetically.\n",
    "    \"\"\"\n",
    "    a = str(a)\n",
    "    b = str(b)\n",
    "    c = str(c)\n",
    "    d = str(d)\n",
    "    e = str(e)\n",
    "\n",
    "    combined == [a, b, c, d, e]\n",
    "    combined = sorted(combined)\n",
    "    return combined\n"
   ]
  }
 ],
 "metadata": {
  "kernelspec": {
   "display_name": "Python 3",
   "language": "python",
   "name": "python3"
  },
  "language_info": {
   "codemirror_mode": {
    "name": "ipython",
    "version": 3
   },
   "file_extension": ".py",
   "mimetype": "text/x-python",
   "name": "python",
   "nbconvert_exporter": "python",
   "pygments_lexer": "ipython3",
   "version": "3.12.0"
  }
 },
 "nbformat": 4,
 "nbformat_minor": 2
}
