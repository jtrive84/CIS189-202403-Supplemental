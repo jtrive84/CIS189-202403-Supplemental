{
 "cells": [
  {
   "cell_type": "markdown",
   "metadata": {},
   "source": [
    "### Buddy Debugging - 2024-01-31\n",
    "---"
   ]
  },
  {
   "cell_type": "markdown",
   "metadata": {},
   "source": [
    "#### 1."
   ]
  },
  {
   "cell_type": "code",
   "execution_count": null,
   "metadata": {},
   "outputs": [],
   "source": [
    "\n",
    "# Compute average of a and b separately and combined. \n",
    "\n",
    "import statistics\n",
    "\n",
    "a = [5, 8, 9, 12, 7]\n",
    "b = [3, '9', 6]\n",
    "c = a + b\n",
    "\n",
    "mean_a = mean(a)\n",
    "mean_b = mean(b)\n",
    "mean_c = mean(c)\n",
    "\n",
    "print(f\"a: {a}\")\n",
    "print(f\"b: {b}\")\n",
    "print(f\"c: {c}\")\n",
    "\n",
    "print(f\"mean_a: {mean_a}\")\n",
    "print(f\"mean_b: {mean_b}\")\n",
    "print(f\"mean_c: {mean_c}\")\n"
   ]
  },
  {
   "cell_type": "code",
   "execution_count": null,
   "metadata": {},
   "outputs": [],
   "source": [
    "\n",
    "\n",
    "# Cannot compute average a list unless all values are numeric (b is not).\n",
    "# Cannot call mean without statistics prefix. \n",
    "a = [5, 8, 9, 12, 7]\n",
    "b = [3, \"9\", 6]\n",
    "\n",
    "indx9 = b.index(\"9\")\n",
    "b[indx9] = int(b[indx9])\n",
    "\n",
    "c = a + b\n",
    "\n",
    "mean_a = statistics.mean(a)\n",
    "mean_b = statistics.mean(b)\n",
    "mean_c = statistics.mean(c)\n",
    "\n",
    "print(f\"mean_a: {mean_a}\")\n",
    "print(f\"mean_b: {mean_b}\")\n",
    "print(f\"mean_c: {mean_c}\")\n"
   ]
  },
  {
   "cell_type": "markdown",
   "metadata": {},
   "source": [
    "#### 2."
   ]
  },
  {
   "cell_type": "code",
   "execution_count": null,
   "metadata": {},
   "outputs": [],
   "source": [
    "\n",
    "# Replace 11 with 13.\n",
    "\n",
    "a = [2, 7, 9, 10, 11, 14]\n",
    "\n",
    "eleven_indx = a.index(11)\n",
    "\n",
    "a.replace(eleven_indx, 13)\n",
    "\n",
    "print(f\"a: {a}\")\n"
   ]
  },
  {
   "cell_type": "code",
   "execution_count": null,
   "metadata": {},
   "outputs": [],
   "source": [
    "\n",
    "\n",
    "# There is no replace method for lists. Update the value at a given index \n",
    "# using bracket notation.\n",
    "eleven_indx = a.index(11)\n",
    "a[eleven_indx] = 13\n"
   ]
  },
  {
   "cell_type": "markdown",
   "metadata": {},
   "source": [
    "#### 3. "
   ]
  },
  {
   "cell_type": "code",
   "execution_count": null,
   "metadata": {},
   "outputs": [],
   "source": [
    "\n",
    "# Sort wts in decreasing order (reverse sorted) and print the element at the\n",
    "# 5th index.\n",
    "\n",
    "wts = [62.0, 64.7, 66.9, 59.5, 61.2, 68.8, 71.4, 57.6]\n",
    "\n",
    "ordered_wts = wts.sort()\n",
    "\n",
    "rev_ordered_wts = ordered_wts.reverse()\n",
    "\n",
    "fifth_element = rev_ordered_wts[5]\n",
    "\n",
    "print(f\"wts: {wts}\")\n",
    "print(f\"rev_ordered_wts: {rev_ordered_wts}\")\n",
    "print(f\"fifth_element: {fifth_element}\")\n"
   ]
  },
  {
   "cell_type": "code",
   "execution_count": null,
   "metadata": {},
   "outputs": [],
   "source": [
    "\n",
    "\n",
    "# sort/reverse are inplace operations - cannot assign the result of an in-place\n",
    "# operation to a new variable since it modifies the original object. \n",
    "# rev_ordered_wts = sorted(wts, reverse=True)\n",
    "# fifth_element = rev_ordered_wts[5]\n"
   ]
  },
  {
   "cell_type": "markdown",
   "metadata": {},
   "source": [
    "#### 4."
   ]
  },
  {
   "cell_type": "code",
   "execution_count": null,
   "metadata": {},
   "outputs": [],
   "source": [
    "\n",
    "# Compute maximum of baby_snakes after removing 54 and 66.\n",
    "\n",
    "baby_snakes = [20, 22, 27, 36, 17, 47, 54, 66]\n",
    "baby_snakes.pop(54)\n",
    "baby_snakes.pop(66)\n",
    "\n",
    "max_baby_snakes = max(baby_snakes)\n",
    "\n",
    "print(f\"maximum of baby snakes: {max_baby_snakes}\")\n"
   ]
  },
  {
   "cell_type": "code",
   "execution_count": null,
   "metadata": {},
   "outputs": [],
   "source": [
    "\n",
    "\n",
    "# pop expects and index, not a value. We can either lookup the indices\n",
    "# of 54 and 66, then pass the indices to pop, or use the remove method:\n",
    "\n",
    "# baby_snakes.remove(54)\n",
    "# baby_snakes.remove(66)\n",
    "# max_baby_snakes = max(baby_snakes)\n",
    "# print(f\"maximum of baby snakes: {max_baby_snakes}\")\n"
   ]
  },
  {
   "cell_type": "markdown",
   "metadata": {},
   "source": [
    "#### 5."
   ]
  },
  {
   "cell_type": "code",
   "execution_count": null,
   "metadata": {},
   "outputs": [],
   "source": [
    "\n",
    "# Append v2 and v3 to v1 and print the total number of planets.\n",
    "\n",
    "v1 = [\"mercury\", \"venus\", \"earth\"]\n",
    "v2 = [\"mars\", \"jupyter\", \"saturn\"]\n",
    "v3 = [\"uranus\", \"neptune\"]\n",
    "\n",
    "v1.append(v2)\n",
    "v1.append(v3)\n",
    "\n",
    "nbr_planets = len(v1)\n",
    "\n",
    "print(f\"v1: {v1}\")\n",
    "print(f\"Number of planets: {nbr_planets}\")\n"
   ]
  },
  {
   "cell_type": "code",
   "execution_count": null,
   "metadata": {},
   "outputs": [],
   "source": [
    "\n",
    "\n",
    "# If we pass a list to append, it will be added to the original list as a sublist.\n",
    "# We can combine lists into a single unnested list using `+`.\n",
    "# v1 = v1 + v2 + v3\n"
   ]
  },
  {
   "cell_type": "markdown",
   "metadata": {},
   "source": [
    "#### 6."
   ]
  },
  {
   "cell_type": "code",
   "execution_count": null,
   "metadata": {},
   "outputs": [],
   "source": [
    "\n",
    "# Convert values in names to uppercase, then sort alphabetically. \n",
    "\n",
    "names = [\"sturgill\", \"hank\", \"waylon\", \"merle\", \"george\"]\n",
    "uppercase = names.upper()\n",
    "sorted_uppercase = uppercase.sort()\n",
    "\n",
    "print(\"sorted_uppercase: {sorted_uppercase}\")\n",
    "\n"
   ]
  },
  {
   "cell_type": "code",
   "execution_count": null,
   "metadata": {},
   "outputs": [],
   "source": [
    "\n",
    "\n",
    "# 1. Cannot call upper on a list, only available for string types.\n",
    "# 2. Cannot assign the result of sort to a new variable (in-place operation).\n",
    "# 3. Missing f in print statement (variable will not substituted).\n",
    "\n",
    "# names = [\"sturgill\", \"hank\", \"waylon\", \"merle\", \"george\"]\n",
    "\n",
    "# names[0] = names[0].upper()\n",
    "# names[1] = names[1].upper()\n",
    "# names[2] = names[2].upper()\n",
    "# names[3] = names[3].upper()\n",
    "# names[4] = names[4].upper()\n",
    "\n",
    "# sorted_uppercase = sorted(names)\n",
    "\n",
    "# Option 2 - Using list comprehension.\n",
    "# sorted_uppercase = sorted([j.upper() for j in names])\n",
    "\n",
    "# print(f\"sorted_uppercase: {sorted_uppercase}\")\n"
   ]
  },
  {
   "cell_type": "markdown",
   "metadata": {},
   "source": [
    "#### 7."
   ]
  },
  {
   "cell_type": "code",
   "execution_count": null,
   "metadata": {},
   "outputs": [],
   "source": [
    "\n",
    "# Convert scores to floats. Compute square root of sum.\n",
    "\n",
    "scores = [\"72.0\", \"52.7\", \"66.4\", \"99.1\", \"0.0\"]\n",
    "scores = float(scores)\n",
    "sum_scores = sum(scores)\n",
    "sqrt_sum_scores = math.sqrt(sum_scores)\n",
    "\n",
    "print(f\"sum_scores     : {sum_scores}\")\n",
    "print(f\"sqrt_sum_scores: {sqrt_sum_scores}\")\n"
   ]
  },
  {
   "cell_type": "code",
   "execution_count": null,
   "metadata": {},
   "outputs": [],
   "source": [
    "\n",
    "\n",
    "# Cannot convert a list to a float, each element must be converted separately. \n",
    "# Cannot access functions from math library without first importing math. \n",
    "# scores[0] = float(scores[0])\n",
    "# scores[1] = float(scores[1])\n",
    "# scores[2] = float(scores[2])\n",
    "# scores[3] = float(scores[3])\n",
    "# scores[4] = float(scores[4])\n",
    "\n",
    "# Option 2 - Using list comprehension.\n",
    "# sqrt_sum_scores = math.sqrt(sum([float(j) for j in scores]))\n"
   ]
  },
  {
   "cell_type": "markdown",
   "metadata": {},
   "source": [
    "#### 8.\n"
   ]
  },
  {
   "cell_type": "code",
   "execution_count": null,
   "metadata": {},
   "outputs": [],
   "source": [
    "\n",
    "# Combine digits from numbers into a single integer.\n",
    "\n",
    "numbers = [4, 7, 9, 2, 5]\n",
    "combined = \"\".join(numbers)\n",
    "combined_as_int = int(combined)\n",
    "\n",
    "print(f\"combined_as_int: {combined_as_int}\")\n"
   ]
  },
  {
   "cell_type": "code",
   "execution_count": null,
   "metadata": {},
   "outputs": [],
   "source": [
    "\n",
    "\n",
    "# Can only join strings with .join. First convert each element of numbers to \n",
    "# a string, then convert the result to an integer.\n",
    "# strings = numbers.copy()\n",
    "# strings[0] = str(strings[0])\n",
    "# strings[1] = str(strings[1])\n",
    "# strings[2] = str(strings[2])\n",
    "# strings[3] = str(strings[3])\n",
    "# strings[4] = str(strings[4])\n",
    "\n",
    "# combined = \"\".join(strings)\n",
    "# combined_as_int = int(combined)\n",
    "\n",
    "# # Option 2 - Using list comprehension.\n",
    "# combined_as_int = int(\"\".join([str(j) for j in numbers]))\n"
   ]
  },
  {
   "cell_type": "markdown",
   "metadata": {},
   "source": [
    "#### 9. "
   ]
  },
  {
   "cell_type": "code",
   "execution_count": null,
   "metadata": {},
   "outputs": [],
   "source": [
    "\n",
    "# Swap the values of the first and last elements of fruits.\n",
    "\n",
    "fruits = [\"apple\", \"orange\", \"kiwi\", \"banana\", \"peach\", \"pineapple\", \"watermelon\"]\n",
    "\n",
    "print(f\"fruits pre-swap: {fruits}\")\n",
    "\n",
    "fruits[0] = fruits[-1]\n",
    "fruits[-1] = fruits[0]\n",
    "\n",
    "print(f\"fruits post-swap: {fruits}\")\n"
   ]
  },
  {
   "cell_type": "code",
   "execution_count": null,
   "metadata": {},
   "outputs": [],
   "source": [
    "\n",
    "\n",
    "# By updating the fruit at index 0 before creating a reference to it, we lose \n",
    "# the original value. First create a reference to the first and last elements,\n",
    "# then update fruits:\n",
    "fruits = [\"apple\", \"orange\", \"kiwi\", \"banana\", \"peach\", \"pineapple\", \"watermelon\"]\n",
    "\n",
    "fruit_first = fruits[0]\n",
    "fruit_last = fruits[-1]\n",
    "fruits[0] = fruit_last \n",
    "fruits[-1] = fruit_first\n",
    "\n",
    "print(f\"fruits post-swap: {fruits}\")\n"
   ]
  },
  {
   "cell_type": "markdown",
   "metadata": {},
   "source": [
    "#### 10."
   ]
  },
  {
   "cell_type": "code",
   "execution_count": null,
   "metadata": {},
   "outputs": [],
   "source": [
    "\n",
    "# Determine the number of characters (including whitespace) in w1 and w2 combined.\n",
    "\n",
    "w1 = [\"ticking\", \"away\", \"the\", \"moments\", \"that\", \"make\", \"up\", \"a\", \"dull\", \"day\"]\n",
    "w2 = [\"you\", \"fritter\", \"and\", \"waste\", \"the\", \"hours\", \"in\", \"an\", \"offhand\", \"way\"]\n",
    "w3 = w1 + w2\n",
    "\n",
    "n_chars = len(w3)\n",
    "\n",
    "print(f\"Number of characters in w3: {n_chars}\")\n"
   ]
  },
  {
   "cell_type": "code",
   "execution_count": null,
   "metadata": {},
   "outputs": [],
   "source": [
    "\n",
    "\n",
    "# Calling len on a list will return the number of elements in the list, not the \n",
    "# length of each element in the list. First concatenate w3 into a single string,\n",
    "# then call len on the result.\n",
    "\n",
    "all_chars = \" \".join(w3)\n",
    "n_chars = len(all_chars)\n",
    "\n",
    "print(f\"all_chars: {all_chars}\")\n",
    "print(f\"n_chars: {n_chars}\")\n",
    "\n"
   ]
  }
 ],
 "metadata": {
  "kernelspec": {
   "display_name": "Python 3",
   "language": "python",
   "name": "python3"
  },
  "language_info": {
   "codemirror_mode": {
    "name": "ipython",
    "version": 3
   },
   "file_extension": ".py",
   "mimetype": "text/x-python",
   "name": "python",
   "nbconvert_exporter": "python",
   "pygments_lexer": "ipython3",
   "version": "3.12.0"
  }
 },
 "nbformat": 4,
 "nbformat_minor": 2
}
