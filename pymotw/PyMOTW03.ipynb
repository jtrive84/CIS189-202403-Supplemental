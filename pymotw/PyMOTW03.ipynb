{
 "cells": [
  {
   "cell_type": "markdown",
   "metadata": {},
   "source": [
    "### Python Module of the Week: `random`\n",
    "---\n",
    "Author: James D. Triveri\n",
    "\n",
    "The **random** library is builtin to Python, and exposes functionality to generate random numbers and randomly sample from existing collections of objects.\n",
    "\n",
    "Generated numbers are pseudo-random. We can set a seed to generate the same sequence of random pseudo-random numbers:\n"
   ]
  },
  {
   "cell_type": "code",
   "execution_count": null,
   "metadata": {},
   "outputs": [],
   "source": [
    "\n",
    "import random \n",
    "\n",
    "random.seed(516)\n",
    "\n",
    "r = []\n",
    "for i in range(5):\n",
    "    val = random.random()\n",
    "    r.append(val)\n",
    "\n",
    "print(f\"r: {r}\")\n"
   ]
  },
  {
   "cell_type": "markdown",
   "metadata": {},
   "source": [
    "If I set the seed again to `516`, the same list will be generated:"
   ]
  },
  {
   "cell_type": "code",
   "execution_count": null,
   "metadata": {},
   "outputs": [],
   "source": [
    "\n",
    "random.seed(516)\n",
    "\n",
    "r = []\n",
    "for i in range(5):\n",
    "    val = random.random()\n",
    "    r.append(val)\n",
    "\n",
    "print(f\"r: {r}\")\n"
   ]
  },
  {
   "cell_type": "markdown",
   "metadata": {},
   "source": [
    "If I do not set the seed, the list of numbers will be different:\n"
   ]
  },
  {
   "cell_type": "code",
   "execution_count": null,
   "metadata": {},
   "outputs": [],
   "source": [
    "\n",
    "r = []\n",
    "for i in range(5):\n",
    "    val = random.random()\n",
    "    r.append(val)\n",
    "\n",
    "print(f\"r: {r}\")\n",
    "\n"
   ]
  },
  {
   "cell_type": "code",
   "execution_count": null,
   "metadata": {},
   "outputs": [],
   "source": [
    "\n",
    "\n",
    "r = []\n",
    "for i in range(5):\n",
    "    val = random.random()\n",
    "    r.append(val)\n",
    "\n",
    "\n",
    "print(f\"r: {r}\")\n"
   ]
  },
  {
   "cell_type": "markdown",
   "metadata": {},
   "source": [
    "`random.uniform` generates random float in the range of [a, b]:"
   ]
  },
  {
   "cell_type": "code",
   "execution_count": null,
   "metadata": {},
   "outputs": [],
   "source": [
    "\n",
    "# Generate 10 floats between 0-50.\n",
    "r = []\n",
    "for i in range(10):\n",
    "    val = random.uniform(0, 50) \n",
    "    r.append(val)\n",
    "\n",
    "for j in r:\n",
    "    print(j)\n",
    "    "
   ]
  },
  {
   "cell_type": "markdown",
   "metadata": {},
   "source": [
    "`random.randint` generates random integers falling within [a, b] (inclusive of endpoints):"
   ]
  },
  {
   "cell_type": "code",
   "execution_count": null,
   "metadata": {},
   "outputs": [],
   "source": [
    "\n",
    "# Generate 10 ints between 0-50.\n",
    "r = []\n",
    "for i in range(10):\n",
    "    val = random.randint(0, 50) \n",
    "    r.append(val)\n",
    "\n",
    "for j in r:\n",
    "    print(j)"
   ]
  },
  {
   "cell_type": "markdown",
   "metadata": {},
   "source": [
    "`random.choice` will return an element at random from a sequence:"
   ]
  },
  {
   "cell_type": "code",
   "execution_count": null,
   "metadata": {},
   "outputs": [],
   "source": [
    "\n",
    "fruits = [\"apple\", \"orange\", \"kiwi\", \"banana\", \"blueberry\", \"strawberry\", \"pineapple\", \"peach\"]\n",
    "\n",
    "random.choice(fruits)\n"
   ]
  },
  {
   "cell_type": "markdown",
   "metadata": {},
   "source": [
    "`random.choices` returns a length `k` list with replacement:"
   ]
  },
  {
   "cell_type": "code",
   "execution_count": null,
   "metadata": {},
   "outputs": [],
   "source": [
    "\n",
    "fruits = [\"apple\", \"orange\", \"kiwi\", \"banana\", \"blueberry\", \"strawberry\", \"pineapple\", \"peach\"]\n",
    "\n",
    "random.choices(fruits, k=10)\n"
   ]
  },
  {
   "cell_type": "markdown",
   "metadata": {},
   "source": [
    "Different weights can be assigned to each observation by passing in a `weights` list:"
   ]
  },
  {
   "cell_type": "code",
   "execution_count": null,
   "metadata": {},
   "outputs": [],
   "source": [
    "\n",
    "fruits = [\"apple\", \"orange\", \"kiwi\", \"banana\", \"blueberry\", \"strawberry\", \"pineapple\", \"peach\"]\n",
    "weights = [.75, .19, .01, .01, .01, .01, .01, .01]\n",
    "\n",
    "random.choices(fruits, weights=weights, k=20)"
   ]
  },
  {
   "cell_type": "markdown",
   "metadata": {},
   "source": [
    "`random.sample` chooses `k` unique random elements from a population sequence. If `k` is larger than the length of the sequence, `ValueError` is thrown:"
   ]
  },
  {
   "cell_type": "code",
   "execution_count": null,
   "metadata": {},
   "outputs": [],
   "source": [
    "\n",
    "vals = [2, 4, 6 ,8, 10, 12, 14, 16, 18, 20]\n",
    "\n",
    "random.sample(vals, k=5)\n"
   ]
  },
  {
   "cell_type": "markdown",
   "metadata": {},
   "source": [
    "`random.shuffle` shuffles a sequence in-place:"
   ]
  },
  {
   "cell_type": "code",
   "execution_count": null,
   "metadata": {},
   "outputs": [],
   "source": [
    "\n",
    "a = list(range(0, 33, 3))\n",
    "\n",
    "print(f\"a before shuffle: {a}\")\n",
    "\n",
    "# Call random.shuffle (in-place operation).\n",
    "random.shuffle(a)\n",
    "\n",
    "print(f\"a after shuffle: {a}\")\n"
   ]
  },
  {
   "cell_type": "markdown",
   "metadata": {},
   "source": [
    "`random.gauss` produces samples from a standard normal distribution (bell curve)"
   ]
  },
  {
   "cell_type": "code",
   "execution_count": null,
   "metadata": {},
   "outputs": [],
   "source": [
    "\n",
    "import matplotlib.pyplot as plt\n",
    "\n",
    "r = []\n",
    "for i in range(100000):\n",
    "    val = random.gauss(mu=0, sigma=1)\n",
    "    r.append(val)\n",
    "\n",
    "\n",
    "# Plot histogram of standard normal random samples. \n",
    "fig, ax = plt.subplots(1, 1)\n",
    "ax.set_title(\"standard normal random samples (mean=0, sigma=1)\")\n",
    "ax.hist(r, 35, edgecolor=\"white\")\n",
    "plt.show()\n"
   ]
  },
  {
   "cell_type": "markdown",
   "metadata": {},
   "source": [
    "For comparison, a histogram of random uniform values:"
   ]
  },
  {
   "cell_type": "code",
   "execution_count": null,
   "metadata": {},
   "outputs": [],
   "source": [
    "\n",
    "g = []\n",
    "for i in range(100000):\n",
    "    val = random.gauss(mu=0, sigma=1)\n",
    "    g.append(val)\n",
    "\n",
    "\n",
    "u = []\n",
    "for i in range(100000):\n",
    "    val = random.uniform(a=0, b=10)\n",
    "    u.append(val)\n",
    "\n",
    "\n",
    "\n",
    "fig, ax = plt.subplots(1, 2, figsize=(10, 4))\n",
    "\n",
    "# Plot histogram of standard normal random samples. \n",
    "ax[0].set_title(\"standard normal random samples (mean=0, sigma=1)\", size=10)\n",
    "ax[0].hist(g, 30, edgecolor=\"white\")\n",
    "\n",
    "# Plot histogram of uniform random samples. \n",
    "ax[1].set_title(\"uniform random samples a=0, b=10\", size=10)\n",
    "ax[1].hist(u, 30, edgecolor=\"white\")\n",
    "plt.show()\n",
    "\n"
   ]
  },
  {
   "cell_type": "markdown",
   "metadata": {},
   "source": [
    "Short video on the Gaussian distribution:\n",
    "\n",
    "- https://www.youtube.com/watch?v=rzFX5NWojp0"
   ]
  },
  {
   "cell_type": "markdown",
   "metadata": {},
   "source": [
    "For an list of data $x$ of length $n$, we can compute the mean (average) as follows:\n",
    "\n",
    "\n",
    "$$\n",
    "\\bar{x} = \\frac{1}{n} \\sum_{i=1}^n x_{i}\n",
    "$$\n",
    "\n",
    "\n",
    "The variance is defined as:\n",
    "\n",
    "$$\n",
    "\\mathrm{s^2} = \\frac{1}{n - 1}\\sum_{i=1}^{n} (x_i - \\bar{x})^2\n",
    "$$\n",
    "\n",
    "\n",
    "The standard deviation is the square root of the variance:\n",
    "\n",
    "$$\n",
    "\\sigma = s = \\sqrt{s^2}\n",
    "$$\n",
    "\n",
    "\n",
    "\n",
    "For data the follows a normal distribution, the Empirical rule states:\n",
    "\n",
    "- ~68% of the data fall within +/- 1 s.d.\n",
    "- ~95% of the data fall within +/- 2 s.d.\n",
    "- ~99.7% of the data fall within +/- 3 s.d.\n"
   ]
  },
  {
   "cell_type": "code",
   "execution_count": null,
   "metadata": {},
   "outputs": [],
   "source": [
    "\n",
    "import statistics\n",
    "\n",
    "x = [4, 7, 3, 6, 5]\n",
    "\n",
    "# x_bar = statistics.mean(x)\n",
    "# x_var = statistics.variance(x)\n",
    "# x_std = statistics.stdev(x)\n",
    "\n",
    "# print(f\"x_bar: {x_bar:.5f}\")\n",
    "# print(f\"x_var: {x_var:.5f}\")\n",
    "# print(f\"x_std: {x_std:.5f}\")\n"
   ]
  }
 ],
 "metadata": {
  "kernelspec": {
   "display_name": "Python 3",
   "language": "python",
   "name": "python3"
  },
  "language_info": {
   "codemirror_mode": {
    "name": "ipython",
    "version": 3
   },
   "file_extension": ".py",
   "mimetype": "text/x-python",
   "name": "python",
   "nbconvert_exporter": "python",
   "pygments_lexer": "ipython3",
   "version": "3.12.0"
  }
 },
 "nbformat": 4,
 "nbformat_minor": 2
}
